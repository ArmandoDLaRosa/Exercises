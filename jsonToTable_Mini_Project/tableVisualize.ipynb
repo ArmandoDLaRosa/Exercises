{
 "cells": [
  {
   "cell_type": "code",
   "execution_count": 2,
   "metadata": {},
   "outputs": [],
   "source": [
    "import pandas as pd\n",
    "import sqlite3\n",
    "\n",
    "from configparser import ConfigParser"
   ]
  },
  {
   "cell_type": "code",
   "execution_count": 3,
   "metadata": {},
   "outputs": [],
   "source": [
    "config_object = ConfigParser(interpolation=None)\n",
    "config_object.read(\"/home/armando/Github Repos/WebScrapping-exercises/config.ini\")\n",
    "\n",
    "dbLoc = config_object[\"DATABASES\"]    \n",
    "activeUsersLoc = dbLoc[\"ACTIVEUSERS\"]\n",
    "\n",
    "urls = config_object[\"URLS\"]    \n",
    "usaUrl = urls[\"USAAPI\"]\n",
    "\n",
    "conn = sqlite3.connect(activeUsersLoc)\n",
    "c = conn.cursor()\n"
   ]
  },
  {
   "cell_type": "code",
   "execution_count": 6,
   "metadata": {},
   "outputs": [
    {
     "data": {
      "text/html": [
       "<div>\n",
       "<style scoped>\n",
       "    .dataframe tbody tr th:only-of-type {\n",
       "        vertical-align: middle;\n",
       "    }\n",
       "\n",
       "    .dataframe tbody tr th {\n",
       "        vertical-align: top;\n",
       "    }\n",
       "\n",
       "    .dataframe thead th {\n",
       "        text-align: right;\n",
       "    }\n",
       "</style>\n",
       "<table border=\"1\" class=\"dataframe\">\n",
       "  <thead>\n",
       "    <tr style=\"text-align: right;\">\n",
       "      <th></th>\n",
       "      <th>metric_taken_at</th>\n",
       "      <th>active_users</th>\n",
       "    </tr>\n",
       "  </thead>\n",
       "  <tbody>\n",
       "    <tr>\n",
       "      <th>0</th>\n",
       "      <td>2022-02-05T05:46:28.133Z</td>\n",
       "      <td>162176</td>\n",
       "    </tr>\n",
       "    <tr>\n",
       "      <th>1</th>\n",
       "      <td>2022-02-05T06:06:39.233Z</td>\n",
       "      <td>153494</td>\n",
       "    </tr>\n",
       "    <tr>\n",
       "      <th>2</th>\n",
       "      <td>2022-02-05T06:11:39.233Z</td>\n",
       "      <td>150274</td>\n",
       "    </tr>\n",
       "    <tr>\n",
       "      <th>3</th>\n",
       "      <td>2022-02-05T06:16:39.195Z</td>\n",
       "      <td>147522</td>\n",
       "    </tr>\n",
       "    <tr>\n",
       "      <th>4</th>\n",
       "      <td>2022-02-05T06:21:39.184Z</td>\n",
       "      <td>145286</td>\n",
       "    </tr>\n",
       "    <tr>\n",
       "      <th>5</th>\n",
       "      <td>2022-02-05T06:26:39.197Z</td>\n",
       "      <td>142981</td>\n",
       "    </tr>\n",
       "    <tr>\n",
       "      <th>6</th>\n",
       "      <td>2022-02-05T06:31:39.221Z</td>\n",
       "      <td>141220</td>\n",
       "    </tr>\n",
       "    <tr>\n",
       "      <th>7</th>\n",
       "      <td>2022-02-05T06:36:39.250Z</td>\n",
       "      <td>138859</td>\n",
       "    </tr>\n",
       "  </tbody>\n",
       "</table>\n",
       "</div>"
      ],
      "text/plain": [
       "            metric_taken_at active_users\n",
       "0  2022-02-05T05:46:28.133Z       162176\n",
       "1  2022-02-05T06:06:39.233Z       153494\n",
       "2  2022-02-05T06:11:39.233Z       150274\n",
       "3  2022-02-05T06:16:39.195Z       147522\n",
       "4  2022-02-05T06:21:39.184Z       145286\n",
       "5  2022-02-05T06:26:39.197Z       142981\n",
       "6  2022-02-05T06:31:39.221Z       141220\n",
       "7  2022-02-05T06:36:39.250Z       138859"
      ]
     },
     "execution_count": 6,
     "metadata": {},
     "output_type": "execute_result"
    }
   ],
   "source": [
    "\n",
    "c.execute('''\n",
    "        SELECT\n",
    "        *\n",
    "        FROM activeUsers\n",
    "        ''')\n",
    "\n",
    "df = pd.DataFrame(c.fetchall(), columns=['metric_taken_at','active_users'])\n",
    "df"
   ]
  }
 ],
 "metadata": {
  "interpreter": {
   "hash": "6a02916a2d31e471d7c9efe67acbe17599a72561a85cc94395ad1895946d5ce7"
  },
  "kernelspec": {
   "display_name": "Python 3.8.10 ('scrapEnv': venv)",
   "language": "python",
   "name": "python3"
  },
  "language_info": {
   "codemirror_mode": {
    "name": "ipython",
    "version": 3
   },
   "file_extension": ".py",
   "mimetype": "text/x-python",
   "name": "python",
   "nbconvert_exporter": "python",
   "pygments_lexer": "ipython3",
   "version": "3.8.10"
  },
  "orig_nbformat": 4
 },
 "nbformat": 4,
 "nbformat_minor": 2
}
